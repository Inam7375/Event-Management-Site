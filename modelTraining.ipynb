{
 "cells": [
  {
   "cell_type": "code",
   "execution_count": 36,
   "metadata": {},
   "outputs": [
    {
     "name": "stdout",
     "output_type": "stream",
     "text": [
      "Import Done\n"
     ]
    }
   ],
   "source": [
    "from surprise import Reader, Dataset, SVD\n",
    "from surprise.model_selection.validation import cross_validate\n",
    "from sqlite3.dbapi2 import Cursor\n",
    "import sqlite3\n",
    "import pickle\n",
    "from numpy.core.fromnumeric import sort\n",
    "import pandas as pd\n",
    "import numpy as np\n",
    "print(\"Import Done\")"
   ]
  },
  {
   "cell_type": "code",
   "execution_count": 37,
   "metadata": {},
   "outputs": [],
   "source": [
    "def connect():\n",
    "    conn = sqlite3.connect('Users.sqlite')\n",
    "\n",
    "    return conn"
   ]
  },
  {
   "cell_type": "code",
   "execution_count": 38,
   "metadata": {},
   "outputs": [],
   "source": [
    "\"\"\"\n",
    "    Fetching Rankings Table and converting into dataframe\n",
    "\"\"\"\n",
    "\n",
    "conn = connect()\n",
    "cursor = conn.cursor()\n",
    "sql_query = \"select * from Ratings\"\n",
    "cursor.execute(sql_query)\n",
    "results = list(cursor)\n",
    "conn.close()\n",
    "data = [list(i) for i in results]\n",
    "df = pd.DataFrame(data = data, columns = [\n",
    "    \"images\",\n",
    "    \"users\",\n",
    "    \"ratings\"\n",
    "])"
   ]
  },
  {
   "cell_type": "code",
   "execution_count": 39,
   "metadata": {},
   "outputs": [],
   "source": [
    "\"\"\"\n",
    "    Initializing singular value decomposition (SVD)\n",
    "\"\"\"\n",
    "\n",
    "reader = Reader()\n",
    "\n",
    "data = Dataset.load_from_df(df, reader)\n",
    "\n",
    "svd = SVD()"
   ]
  },
  {
   "cell_type": "code",
   "execution_count": 40,
   "metadata": {},
   "outputs": [
    {
     "name": "stdout",
     "output_type": "stream",
     "text": [
      "Evaluating RMSE, MAE of algorithm SVD on 2 split(s).\n",
      "\n",
      "                  Fold 1  Fold 2  Mean    Std     \n",
      "RMSE (testset)    1.2991  1.5669  1.4330  0.1339  \n",
      "MAE (testset)     0.9786  1.3801  1.1793  0.2007  \n",
      "Fit time          0.00    0.00    0.00    0.00    \n",
      "Test time         0.00    0.00    0.00    0.00    \n"
     ]
    },
    {
     "data": {
      "text/plain": [
       "{'test_rmse': array([1.29911757, 1.56691976]),\n",
       " 'test_mae': array([0.97862638, 1.38005328]),\n",
       " 'fit_time': (0.0020203590393066406, 0.0009996891021728516),\n",
       " 'test_time': (0.0, 0.0)}"
      ]
     },
     "execution_count": 40,
     "metadata": {},
     "output_type": "execute_result"
    }
   ],
   "source": [
    "cross_validate(svd, data, measures=['RMSE', 'MAE'], cv=2, verbose=True)"
   ]
  },
  {
   "cell_type": "code",
   "execution_count": 41,
   "metadata": {},
   "outputs": [
    {
     "data": {
      "text/plain": [
       "<surprise.prediction_algorithms.matrix_factorization.SVD at 0x1b939b55cc0>"
      ]
     },
     "execution_count": 41,
     "metadata": {},
     "output_type": "execute_result"
    }
   ],
   "source": [
    "\"\"\"\n",
    "    Fitting Our model with training data\n",
    "\"\"\"\n",
    "trainset = data.build_full_trainset()\n",
    "svd.fit(trainset)"
   ]
  },
  {
   "cell_type": "code",
   "execution_count": 42,
   "metadata": {},
   "outputs": [],
   "source": [
    "\"\"\"\n",
    "    Fetch all images\n",
    "\"\"\"\n",
    "conn = connect()\n",
    "cursor = conn.cursor()\n",
    "sql_query = \"SELECT * FROM Designs where City in ('Rawalpindi', 'Islamabad')\"\n",
    "cursor.execute(sql_query)\n",
    "results = list(cursor)\n",
    "conn.close()\n",
    "data = [list(i) for i in results]\n",
    "df = pd.DataFrame(data = data, columns = [\n",
    "    'image',\n",
    "    'city',\n",
    "    'category',\n",
    "    'style'\n",
    "])"
   ]
  },
  {
   "cell_type": "code",
   "execution_count": 43,
   "metadata": {},
   "outputs": [],
   "source": [
    "df['Estimate_Score'] = df['image'].apply(lambda x: svd.predict(x, 'johny').est)\n",
    "df = df.sort_values(by=['Estimate_Score'], ascending=False)\n"
   ]
  },
  {
   "cell_type": "code",
   "execution_count": 44,
   "metadata": {},
   "outputs": [
    {
     "data": {
      "text/plain": [
       "[{'image': 'https://kitandkaboodle.com/wp-content/uploads/2021/10/6R3A1133-1-1024x683.jpg',\n",
       "  'city': 'Rawalpindi',\n",
       "  'category': 'living_style_5',\n",
       "  'style': 'living',\n",
       "  'Estimate_Score': 3.500833334524926},\n",
       " {'image': 'https://kitandkaboodle.com/wp-content/uploads/2021/10/6R3A8989-1024x1024.jpg',\n",
       "  'city': 'Rawalpindi',\n",
       "  'category': 'living_style_8',\n",
       "  'style': 'living',\n",
       "  'Estimate_Score': 3.4217569973654145},\n",
       " {'image': 'https://kitandkaboodle.com/wp-content/uploads/2021/10/6R3A7264-683x1024.jpg',\n",
       "  'city': 'Rawalpindi',\n",
       "  'category': 'living_style_7',\n",
       "  'style': 'living',\n",
       "  'Estimate_Score': 3.185697277010673},\n",
       " {'image': 'https://kitandkaboodle.com/wp-content/uploads/2021/10/25-683x1024.jpg',\n",
       "  'city': 'Rawalpindi',\n",
       "  'category': 'accessories_style_10',\n",
       "  'style': 'accessories',\n",
       "  'Estimate_Score': 3.1581463197986666},\n",
       " {'image': 'https://kitandkaboodle.com/wp-content/uploads/2021/10/6R3A0294-683x1024.jpg',\n",
       "  'city': 'Rawalpindi',\n",
       "  'category': 'dining_style_3',\n",
       "  'style': 'dining',\n",
       "  'Estimate_Score': 3.1581463197986666}]"
      ]
     },
     "execution_count": 44,
     "metadata": {},
     "output_type": "execute_result"
    }
   ],
   "source": [
    "df.head().to_dict('records')"
   ]
  },
  {
   "cell_type": "code",
   "execution_count": 34,
   "metadata": {},
   "outputs": [],
   "source": [
    "def save_model(filename, model):\n",
    "    # Save to file in the current working directory\n",
    "    pkl_filename = filename + \".pkl\"\n",
    "    with open(pkl_filename, 'wb') as file:\n",
    "        pickle.dump(model, file)"
   ]
  },
  {
   "cell_type": "code",
   "execution_count": 35,
   "metadata": {},
   "outputs": [],
   "source": [
    "save_model('SVD', svd)"
   ]
  }
 ],
 "metadata": {
  "interpreter": {
   "hash": "717199c9a9f7483023676fe0de8c93dd13cbf48894dc8086f7c19bede3e15bc5"
  },
  "kernelspec": {
   "display_name": "Python 3.7.3 64-bit ('base': conda)",
   "language": "python",
   "name": "python3"
  },
  "language_info": {
   "codemirror_mode": {
    "name": "ipython",
    "version": 3
   },
   "file_extension": ".py",
   "mimetype": "text/x-python",
   "name": "python",
   "nbconvert_exporter": "python",
   "pygments_lexer": "ipython3",
   "version": "3.7.3"
  },
  "orig_nbformat": 4
 },
 "nbformat": 4,
 "nbformat_minor": 2
}
